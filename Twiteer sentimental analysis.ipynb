{
 "cells": [
  {
   "cell_type": "markdown",
   "id": "d06fa8c6",
   "metadata": {},
   "source": [
    "# Twitter sentimental analysis"
   ]
  },
  {
   "cell_type": "code",
   "execution_count": 60,
   "id": "045fb945",
   "metadata": {},
   "outputs": [],
   "source": [
    "## importing laibaries \n",
    "import pandas as pd \n",
    "import numpy as np"
   ]
  },
  {
   "cell_type": "code",
   "execution_count": 61,
   "id": "b5947501",
   "metadata": {},
   "outputs": [],
   "source": [
    "## loading the dataset\n",
    "df=pd.read_csv('Elon_musk.csv',encoding = \"latin-1\")"
   ]
  },
  {
   "cell_type": "code",
   "execution_count": 62,
   "id": "bf9d29c4",
   "metadata": {},
   "outputs": [
    {
     "data": {
      "text/html": [
       "<div>\n",
       "<style scoped>\n",
       "    .dataframe tbody tr th:only-of-type {\n",
       "        vertical-align: middle;\n",
       "    }\n",
       "\n",
       "    .dataframe tbody tr th {\n",
       "        vertical-align: top;\n",
       "    }\n",
       "\n",
       "    .dataframe thead th {\n",
       "        text-align: right;\n",
       "    }\n",
       "</style>\n",
       "<table border=\"1\" class=\"dataframe\">\n",
       "  <thead>\n",
       "    <tr style=\"text-align: right;\">\n",
       "      <th></th>\n",
       "      <th>Unnamed: 0</th>\n",
       "      <th>Text</th>\n",
       "    </tr>\n",
       "  </thead>\n",
       "  <tbody>\n",
       "    <tr>\n",
       "      <th>0</th>\n",
       "      <td>1</td>\n",
       "      <td>@kunalb11 Im an alien</td>\n",
       "    </tr>\n",
       "    <tr>\n",
       "      <th>1</th>\n",
       "      <td>2</td>\n",
       "      <td>@ID_AA_Carmack Ray tracing on Cyberpunk with H...</td>\n",
       "    </tr>\n",
       "    <tr>\n",
       "      <th>2</th>\n",
       "      <td>3</td>\n",
       "      <td>@joerogan @Spotify Great interview!</td>\n",
       "    </tr>\n",
       "    <tr>\n",
       "      <th>3</th>\n",
       "      <td>4</td>\n",
       "      <td>@gtera27 Doge is underestimated</td>\n",
       "    </tr>\n",
       "    <tr>\n",
       "      <th>4</th>\n",
       "      <td>5</td>\n",
       "      <td>@teslacn Congratulations Tesla China for amazi...</td>\n",
       "    </tr>\n",
       "  </tbody>\n",
       "</table>\n",
       "</div>"
      ],
      "text/plain": [
       "   Unnamed: 0                                               Text\n",
       "0           1                             @kunalb11 Im an alien\n",
       "1           2  @ID_AA_Carmack Ray tracing on Cyberpunk with H...\n",
       "2           3                @joerogan @Spotify Great interview!\n",
       "3           4                    @gtera27 Doge is underestimated\n",
       "4           5  @teslacn Congratulations Tesla China for amazi..."
      ]
     },
     "execution_count": 62,
     "metadata": {},
     "output_type": "execute_result"
    }
   ],
   "source": [
    "df.head()"
   ]
  },
  {
   "cell_type": "markdown",
   "id": "9f37ffce",
   "metadata": {},
   "source": [
    "### Thereare lots of pancuations in tweet so we need to drop it!"
   ]
  },
  {
   "cell_type": "code",
   "execution_count": 63,
   "id": "69f3cd05",
   "metadata": {},
   "outputs": [
    {
     "data": {
      "text/html": [
       "<div>\n",
       "<style scoped>\n",
       "    .dataframe tbody tr th:only-of-type {\n",
       "        vertical-align: middle;\n",
       "    }\n",
       "\n",
       "    .dataframe tbody tr th {\n",
       "        vertical-align: top;\n",
       "    }\n",
       "\n",
       "    .dataframe thead th {\n",
       "        text-align: right;\n",
       "    }\n",
       "</style>\n",
       "<table border=\"1\" class=\"dataframe\">\n",
       "  <thead>\n",
       "    <tr style=\"text-align: right;\">\n",
       "      <th></th>\n",
       "      <th>Unnamed: 0</th>\n",
       "      <th>Text</th>\n",
       "      <th>clean_text</th>\n",
       "    </tr>\n",
       "  </thead>\n",
       "  <tbody>\n",
       "    <tr>\n",
       "      <th>0</th>\n",
       "      <td>1</td>\n",
       "      <td>@kunalb11 Im an alien</td>\n",
       "      <td>Im an alien</td>\n",
       "    </tr>\n",
       "    <tr>\n",
       "      <th>1</th>\n",
       "      <td>2</td>\n",
       "      <td>@ID_AA_Carmack Ray tracing on Cyberpunk with H...</td>\n",
       "      <td>Ray tracing on Cyberpunk with HDR is next-lev...</td>\n",
       "    </tr>\n",
       "    <tr>\n",
       "      <th>2</th>\n",
       "      <td>3</td>\n",
       "      <td>@joerogan @Spotify Great interview!</td>\n",
       "      <td>Great interview!</td>\n",
       "    </tr>\n",
       "    <tr>\n",
       "      <th>3</th>\n",
       "      <td>4</td>\n",
       "      <td>@gtera27 Doge is underestimated</td>\n",
       "      <td>Doge is underestimated</td>\n",
       "    </tr>\n",
       "    <tr>\n",
       "      <th>4</th>\n",
       "      <td>5</td>\n",
       "      <td>@teslacn Congratulations Tesla China for amazi...</td>\n",
       "      <td>Congratulations Tesla China for amazing execu...</td>\n",
       "    </tr>\n",
       "    <tr>\n",
       "      <th>5</th>\n",
       "      <td>6</td>\n",
       "      <td>Happy New Year of the Ox! https://t.co/9WFKMYu2oj</td>\n",
       "      <td>Happy New Year of the Ox! https://t.co/9WFKMYu2oj</td>\n",
       "    </tr>\n",
       "    <tr>\n",
       "      <th>6</th>\n",
       "      <td>7</td>\n",
       "      <td>Frodo was the underdoge,\\nAll thought he would...</td>\n",
       "      <td>Frodo was the underdoge,\\nAll thought he would...</td>\n",
       "    </tr>\n",
       "    <tr>\n",
       "      <th>7</th>\n",
       "      <td>8</td>\n",
       "      <td>@OwenSparks_ @flcnhvy @anonyx10 Haha thanks :)</td>\n",
       "      <td>Haha thanks :)</td>\n",
       "    </tr>\n",
       "    <tr>\n",
       "      <th>8</th>\n",
       "      <td>9</td>\n",
       "      <td>@flcnhvy @anonyx10 Indeed! Tweets definitely d...</td>\n",
       "      <td>Indeed! Tweets definitely do not represent r...</td>\n",
       "    </tr>\n",
       "    <tr>\n",
       "      <th>9</th>\n",
       "      <td>10</td>\n",
       "      <td>The most entertaining outcome is the most likely</td>\n",
       "      <td>The most entertaining outcome is the most likely</td>\n",
       "    </tr>\n",
       "  </tbody>\n",
       "</table>\n",
       "</div>"
      ],
      "text/plain": [
       "   Unnamed: 0                                               Text  \\\n",
       "0           1                             @kunalb11 Im an alien   \n",
       "1           2  @ID_AA_Carmack Ray tracing on Cyberpunk with H...   \n",
       "2           3                @joerogan @Spotify Great interview!   \n",
       "3           4                    @gtera27 Doge is underestimated   \n",
       "4           5  @teslacn Congratulations Tesla China for amazi...   \n",
       "5           6  Happy New Year of the Ox! https://t.co/9WFKMYu2oj   \n",
       "6           7  Frodo was the underdoge,\\nAll thought he would...   \n",
       "7           8     @OwenSparks_ @flcnhvy @anonyx10 Haha thanks :)   \n",
       "8           9  @flcnhvy @anonyx10 Indeed! Tweets definitely d...   \n",
       "9          10   The most entertaining outcome is the most likely   \n",
       "\n",
       "                                          clean_text  \n",
       "0                                       Im an alien  \n",
       "1   Ray tracing on Cyberpunk with HDR is next-lev...  \n",
       "2                                   Great interview!  \n",
       "3                             Doge is underestimated  \n",
       "4   Congratulations Tesla China for amazing execu...  \n",
       "5  Happy New Year of the Ox! https://t.co/9WFKMYu2oj  \n",
       "6  Frodo was the underdoge,\\nAll thought he would...  \n",
       "7                                     Haha thanks :)  \n",
       "8    Indeed! Tweets definitely do not represent r...  \n",
       "9   The most entertaining outcome is the most likely  "
      ]
     },
     "execution_count": 63,
     "metadata": {},
     "output_type": "execute_result"
    }
   ],
   "source": [
    "# import packages\n",
    "import numpy as np\n",
    "import re\n",
    "\n",
    "# function to remove user handles\n",
    "def remove_pattern(input_txt, pattern):\n",
    "    r = re.findall(pattern, input_txt)\n",
    "    for i in r:\n",
    "        input_txt = re.sub(i, '', input_txt)\n",
    "        \n",
    "    return input_txt  \n",
    "\n",
    "# remove user handles\n",
    "df['clean_text'] = df['Text'].apply(lambda row:remove_pattern(row, \"@[\\w]*\"))\n",
    "\n",
    "\n",
    "# first five observations\n",
    "df.head(10)"
   ]
  },
  {
   "cell_type": "markdown",
   "id": "c4c1870b",
   "metadata": {},
   "source": [
    "## From above all panctuations are removed."
   ]
  },
  {
   "cell_type": "code",
   "execution_count": 64,
   "id": "7259b964",
   "metadata": {},
   "outputs": [
    {
     "data": {
      "text/plain": [
       "(1999, 3)"
      ]
     },
     "execution_count": 64,
     "metadata": {},
     "output_type": "execute_result"
    }
   ],
   "source": [
    "## checking shape of the data\n",
    "df.shape"
   ]
  },
  {
   "cell_type": "markdown",
   "id": "1a236117",
   "metadata": {},
   "source": [
    "## There may be some stopwards in the data so we need to drop it & also converting text into numbers using steaming."
   ]
  },
  {
   "cell_type": "code",
   "execution_count": 6,
   "id": "36deae1b",
   "metadata": {},
   "outputs": [
    {
     "name": "stdout",
     "output_type": "stream",
     "text": [
      "Requirement already satisfied: nltk in c:\\users\\aniket mali\\anaconda3\\lib\\site-packages (3.6.5)\n",
      "Requirement already satisfied: click in c:\\users\\aniket mali\\anaconda3\\lib\\site-packages (from nltk) (8.0.3)\n",
      "Requirement already satisfied: joblib in c:\\users\\aniket mali\\anaconda3\\lib\\site-packages (from nltk) (1.0.1)\n",
      "Requirement already satisfied: regex>=2021.8.3 in c:\\users\\aniket mali\\anaconda3\\lib\\site-packages (from nltk) (2021.8.3)\n",
      "Requirement already satisfied: tqdm in c:\\users\\aniket mali\\anaconda3\\lib\\site-packages (from nltk) (4.62.3)\n",
      "Requirement already satisfied: colorama in c:\\users\\aniket mali\\anaconda3\\lib\\site-packages (from click->nltk) (0.4.4)\n"
     ]
    }
   ],
   "source": [
    "!pip install nltk"
   ]
  },
  {
   "cell_type": "code",
   "execution_count": 19,
   "id": "2784c865",
   "metadata": {},
   "outputs": [
    {
     "name": "stderr",
     "output_type": "stream",
     "text": [
      "[nltk_data] Downloading package stopwords to C:\\Users\\Aniket\n",
      "[nltk_data]     Mali\\AppData\\Roaming\\nltk_data...\n",
      "[nltk_data]   Unzipping corpora\\stopwords.zip.\n"
     ]
    },
    {
     "data": {
      "text/plain": [
       "True"
      ]
     },
     "execution_count": 19,
     "metadata": {},
     "output_type": "execute_result"
    }
   ],
   "source": [
    "nltk.download('stopwords')"
   ]
  },
  {
   "cell_type": "code",
   "execution_count": 23,
   "id": "b96894e7",
   "metadata": {},
   "outputs": [
    {
     "name": "stderr",
     "output_type": "stream",
     "text": [
      "[nltk_data] Downloading package punkt to C:\\Users\\Aniket\n",
      "[nltk_data]     Mali\\AppData\\Roaming\\nltk_data...\n",
      "[nltk_data]   Unzipping tokenizers\\punkt.zip.\n"
     ]
    },
    {
     "data": {
      "text/plain": [
       "True"
      ]
     },
     "execution_count": 23,
     "metadata": {},
     "output_type": "execute_result"
    }
   ],
   "source": [
    "nltk.download('punkt')"
   ]
  },
  {
   "cell_type": "code",
   "execution_count": 65,
   "id": "91e63c0c",
   "metadata": {},
   "outputs": [],
   "source": [
    "from nltk.corpus import stopwords\n",
    "import nltk\n",
    "from string import punctuation\n",
    "from nltk.stem.porter import *"
   ]
  },
  {
   "cell_type": "code",
   "execution_count": 66,
   "id": "c2be01c5",
   "metadata": {},
   "outputs": [
    {
     "data": {
      "text/html": [
       "<div>\n",
       "<style scoped>\n",
       "    .dataframe tbody tr th:only-of-type {\n",
       "        vertical-align: middle;\n",
       "    }\n",
       "\n",
       "    .dataframe tbody tr th {\n",
       "        vertical-align: top;\n",
       "    }\n",
       "\n",
       "    .dataframe thead th {\n",
       "        text-align: right;\n",
       "    }\n",
       "</style>\n",
       "<table border=\"1\" class=\"dataframe\">\n",
       "  <thead>\n",
       "    <tr style=\"text-align: right;\">\n",
       "      <th></th>\n",
       "      <th>Unnamed: 0</th>\n",
       "      <th>Text</th>\n",
       "      <th>clean_text</th>\n",
       "      <th>tokenized_text</th>\n",
       "    </tr>\n",
       "  </thead>\n",
       "  <tbody>\n",
       "    <tr>\n",
       "      <th>0</th>\n",
       "      <td>1</td>\n",
       "      <td>@kunalb11 Im an alien</td>\n",
       "      <td>Im an alien</td>\n",
       "      <td>im alien</td>\n",
       "    </tr>\n",
       "    <tr>\n",
       "      <th>1</th>\n",
       "      <td>2</td>\n",
       "      <td>@ID_AA_Carmack Ray tracing on Cyberpunk with H...</td>\n",
       "      <td>Ray tracing on Cyberpunk with HDR is next-lev...</td>\n",
       "      <td>ray trace cyberpunk hdr next-level have tri</td>\n",
       "    </tr>\n",
       "    <tr>\n",
       "      <th>2</th>\n",
       "      <td>3</td>\n",
       "      <td>@joerogan @Spotify Great interview!</td>\n",
       "      <td>Great interview!</td>\n",
       "      <td>great interview</td>\n",
       "    </tr>\n",
       "    <tr>\n",
       "      <th>3</th>\n",
       "      <td>4</td>\n",
       "      <td>@gtera27 Doge is underestimated</td>\n",
       "      <td>Doge is underestimated</td>\n",
       "      <td>doge underestim</td>\n",
       "    </tr>\n",
       "    <tr>\n",
       "      <th>4</th>\n",
       "      <td>5</td>\n",
       "      <td>@teslacn Congratulations Tesla China for amazi...</td>\n",
       "      <td>Congratulations Tesla China for amazing execu...</td>\n",
       "      <td>congratul tesla china amaz execut last year no...</td>\n",
       "    </tr>\n",
       "  </tbody>\n",
       "</table>\n",
       "</div>"
      ],
      "text/plain": [
       "   Unnamed: 0                                               Text  \\\n",
       "0           1                             @kunalb11 Im an alien   \n",
       "1           2  @ID_AA_Carmack Ray tracing on Cyberpunk with H...   \n",
       "2           3                @joerogan @Spotify Great interview!   \n",
       "3           4                    @gtera27 Doge is underestimated   \n",
       "4           5  @teslacn Congratulations Tesla China for amazi...   \n",
       "\n",
       "                                          clean_text  \\\n",
       "0                                       Im an alien   \n",
       "1   Ray tracing on Cyberpunk with HDR is next-lev...   \n",
       "2                                   Great interview!   \n",
       "3                             Doge is underestimated   \n",
       "4   Congratulations Tesla China for amazing execu...   \n",
       "\n",
       "                                      tokenized_text  \n",
       "0                                          im alien  \n",
       "1        ray trace cyberpunk hdr next-level have tri  \n",
       "2                                    great interview  \n",
       "3                                    doge underestim  \n",
       "4  congratul tesla china amaz execut last year no...  "
      ]
     },
     "execution_count": 66,
     "metadata": {},
     "output_type": "execute_result"
    }
   ],
   "source": [
    "stop_words = list(set(stopwords.words('english')))+list(punctuation)\n",
    "\n",
    "# tokenize\n",
    "df['tokenized_text'] = [nltk.word_tokenize(x) for x in df['clean_text']]\n",
    "\n",
    "# stopword removal\n",
    "df['tokenized_text'] = df['tokenized_text'].apply(lambda row: [word for word in row if word not in stop_words])\n",
    "\n",
    "# stemming words\n",
    "stemmer = PorterStemmer()\n",
    "df['tokenized_text'] = df['tokenized_text'].apply(lambda x: [stemmer.stem(i) for i in x])\n",
    "df['tokenized_text'] = df['tokenized_text'].apply(lambda x: ' '.join(x))\n",
    "df.head()"
   ]
  },
  {
   "cell_type": "markdown",
   "id": "5d4116ab",
   "metadata": {},
   "source": [
    "## all stopwards are removes as they are not useful."
   ]
  },
  {
   "cell_type": "markdown",
   "id": "713d4ae6",
   "metadata": {},
   "source": [
    "# sentimental analysis using vader sentiment!"
   ]
  },
  {
   "cell_type": "code",
   "execution_count": 28,
   "id": "facd0cbd",
   "metadata": {},
   "outputs": [
    {
     "name": "stdout",
     "output_type": "stream",
     "text": [
      "Collecting vaderSentiment\n",
      "  Downloading vaderSentiment-3.3.2-py2.py3-none-any.whl (125 kB)\n",
      "Requirement already satisfied: requests in c:\\users\\aniket mali\\anaconda3\\lib\\site-packages (from vaderSentiment) (2.26.0)\n",
      "Requirement already satisfied: certifi>=2017.4.17 in c:\\users\\aniket mali\\anaconda3\\lib\\site-packages (from requests->vaderSentiment) (2021.10.8)\n",
      "Requirement already satisfied: idna<4,>=2.5 in c:\\users\\aniket mali\\anaconda3\\lib\\site-packages (from requests->vaderSentiment) (3.2)\n",
      "Requirement already satisfied: charset-normalizer~=2.0.0 in c:\\users\\aniket mali\\anaconda3\\lib\\site-packages (from requests->vaderSentiment) (2.0.4)\n",
      "Requirement already satisfied: urllib3<1.27,>=1.21.1 in c:\\users\\aniket mali\\anaconda3\\lib\\site-packages (from requests->vaderSentiment) (1.26.7)\n",
      "Installing collected packages: vaderSentiment\n",
      "Successfully installed vaderSentiment-3.3.2\n"
     ]
    }
   ],
   "source": [
    "!pip install vaderSentiment"
   ]
  },
  {
   "cell_type": "code",
   "execution_count": 67,
   "id": "bcc7e906",
   "metadata": {},
   "outputs": [],
   "source": [
    "from vaderSentiment.vaderSentiment import SentimentIntensityAnalyzer"
   ]
  },
  {
   "cell_type": "code",
   "execution_count": 68,
   "id": "5e9e1344",
   "metadata": {},
   "outputs": [],
   "source": [
    "# function to print sentiments\n",
    "# of the sentence.\n",
    "def sentiment_scores(sentence):\n",
    " \n",
    "    # Create a SentimentIntensityAnalyzer object.\n",
    "    sid_obj = SentimentIntensityAnalyzer()\n",
    " \n",
    "    # polarity_scores method of SentimentIntensityAnalyzer\n",
    "    # object gives a sentiment dictionary.\n",
    "    # which contains pos, neg, neu, and compound scores.\n",
    "    sentiment_dict = sid_obj.polarity_scores(sentence)\n",
    "     \n",
    "    print(\"Overall sentiment dictionary is : \", sentiment_dict)\n",
    "    print(\"sentence was rated as \", sentiment_dict['neg']*100, \"% Negative\")\n",
    "    print(\"sentence was rated as \", sentiment_dict['neu']*100, \"% Neutral\")\n",
    "    # function to print sentiments\n",
    "# of the sentence.\n",
    "def sentiment_scores(sentence):\n",
    " \n",
    "    # Create a SentimentIntensityAnalyzer object.\n",
    "    sid_obj = SentimentIntensityAnalyzer()\n",
    " \n",
    "    # polarity_scores method of SentimentIntensityAnalyzer\n",
    "    # object gives a sentiment dictionary.\n",
    "    # which contains pos, neg, neu, and compound scores.\n",
    "    sentiment_dict = sid_obj.polarity_scores(sentence)\n",
    "     \n",
    "    print(\"Overall sentiment dictionary is : \", sentiment_dict)\n",
    "    print(\"sentence was rated as \", sentiment_dict['neg']*100, \"% Negative\")\n",
    "    print(\"sentence was rated as \", sentiment_dict['neu']*100, \"% Neutral\")      "
   ]
  },
  {
   "cell_type": "code",
   "execution_count": 69,
   "id": "8ed8dbfa",
   "metadata": {},
   "outputs": [],
   "source": [
    "Review1=df.iloc[5:8,3:]"
   ]
  },
  {
   "cell_type": "code",
   "execution_count": 70,
   "id": "116b6f99",
   "metadata": {},
   "outputs": [
    {
     "name": "stdout",
     "output_type": "stream",
     "text": [
      "Overall sentiment dictionary is :  {'neg': 0.0, 'neu': 1.0, 'pos': 0.0, 'compound': 0.0}\n",
      "sentence was rated as  0.0 % Negative\n",
      "sentence was rated as  100.0 % Neutral\n"
     ]
    }
   ],
   "source": [
    "sentiment_scores(Review1)"
   ]
  },
  {
   "cell_type": "code",
   "execution_count": 71,
   "id": "d183145d",
   "metadata": {},
   "outputs": [],
   "source": [
    "df['tokenized_text'] = df['tokenized_text'].astype(str)"
   ]
  },
  {
   "cell_type": "code",
   "execution_count": 72,
   "id": "6118908a",
   "metadata": {},
   "outputs": [],
   "source": [
    "df_1=df['tokenized_text'] "
   ]
  },
  {
   "cell_type": "code",
   "execution_count": 73,
   "id": "54d19826",
   "metadata": {},
   "outputs": [
    {
     "name": "stdout",
     "output_type": "stream",
     "text": [
      "Overall sentiment dictionary is :  {'neg': 0.043, 'neu': 0.823, 'pos': 0.134, 'compound': 1.0}\n",
      "sentence was rated as  4.3 % Negative\n",
      "sentence was rated as  82.3 % Neutral\n"
     ]
    }
   ],
   "source": [
    "sentiment_scores(df_1)"
   ]
  },
  {
   "cell_type": "code",
   "execution_count": 74,
   "id": "783c0ee8",
   "metadata": {},
   "outputs": [],
   "source": [
    "data={'negative':0.043,'neutral':0.823,'positive':0.134}"
   ]
  },
  {
   "cell_type": "code",
   "execution_count": 75,
   "id": "f9047faa",
   "metadata": {},
   "outputs": [
    {
     "data": {
      "text/html": [
       "<div>\n",
       "<style scoped>\n",
       "    .dataframe tbody tr th:only-of-type {\n",
       "        vertical-align: middle;\n",
       "    }\n",
       "\n",
       "    .dataframe tbody tr th {\n",
       "        vertical-align: top;\n",
       "    }\n",
       "\n",
       "    .dataframe thead th {\n",
       "        text-align: right;\n",
       "    }\n",
       "</style>\n",
       "<table border=\"1\" class=\"dataframe\">\n",
       "  <thead>\n",
       "    <tr style=\"text-align: right;\">\n",
       "      <th></th>\n",
       "      <th>negative</th>\n",
       "      <th>neutral</th>\n",
       "      <th>positive</th>\n",
       "    </tr>\n",
       "  </thead>\n",
       "  <tbody>\n",
       "    <tr>\n",
       "      <th>0</th>\n",
       "      <td>0.043</td>\n",
       "      <td>0.823</td>\n",
       "      <td>0.134</td>\n",
       "    </tr>\n",
       "  </tbody>\n",
       "</table>\n",
       "</div>"
      ],
      "text/plain": [
       "   negative  neutral  positive\n",
       "0     0.043    0.823     0.134"
      ]
     },
     "execution_count": 75,
     "metadata": {},
     "output_type": "execute_result"
    }
   ],
   "source": [
    "df2=pd.DataFrame(data,index=[0])\n",
    "df2"
   ]
  },
  {
   "cell_type": "code",
   "execution_count": 76,
   "id": "9c7b6131",
   "metadata": {},
   "outputs": [],
   "source": [
    "a=['negative','neutral','positive']\n",
    "b=[0.043,0.823,0.134]"
   ]
  },
  {
   "cell_type": "code",
   "execution_count": 92,
   "id": "bd421e67",
   "metadata": {},
   "outputs": [],
   "source": [
    "import matplotlib.pyplot as plt"
   ]
  },
  {
   "cell_type": "code",
   "execution_count": 93,
   "id": "1ed88009",
   "metadata": {},
   "outputs": [
    {
     "data": {
      "text/plain": [
       "([<matplotlib.patches.Wedge at 0x26d5abccb80>,\n",
       "  <matplotlib.patches.Wedge at 0x26d5abde100>,\n",
       "  <matplotlib.patches.Wedge at 0x26d5abde5e0>],\n",
       " [Text(1.0899783593649226, 0.1481457934473737, 'negative'),\n",
       "  Text(-1.0553537353620035, 0.31020717795928965, 'neutral'),\n",
       "  Text(1.003960794038326, -0.44951387524072534, 'positive')])"
      ]
     },
     "execution_count": 93,
     "metadata": {},
     "output_type": "execute_result"
    },
    {
     "data": {
      "image/png": "[encoded data removed]",
      "text/plain": [
       "<Figure size 720x504 with 1 Axes>"
      ]
     },
     "metadata": {},
     "output_type": "display_data"
    }
   ],
   "source": [
    "fig = plt.figure(figsize =(10, 7))\n",
    "plt.pie(b, labels = a)"
   ]
  },
  {
   "cell_type": "markdown",
   "id": "966c65d9",
   "metadata": {},
   "source": [
    "# Conclusion."
   ]
  },
  {
   "cell_type": "markdown",
   "id": "e50e5665",
   "metadata": {},
   "source": [
    "## Elon musk tweets are genrally neutral!"
   ]
  }
 ],
 "metadata": {
  "kernelspec": {
   "display_name": "Python 3 (ipykernel)",
   "language": "python",
   "name": "python3"
  },
  "language_info": {
   "codemirror_mode": {
    "name": "ipython",
    "version": 3
   },
   "file_extension": ".py",
   "mimetype": "text/x-python",
   "name": "python",
   "nbconvert_exporter": "python",
   "pygments_lexer": "ipython3",
   "version": "3.9.7"
  }
 },
 "nbformat": 4,
 "nbformat_minor": 5
}
